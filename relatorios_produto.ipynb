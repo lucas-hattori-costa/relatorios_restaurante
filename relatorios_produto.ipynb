{
 "cells": [
  {
   "cell_type": "code",
   "execution_count": 20,
   "metadata": {},
   "outputs": [],
   "source": [
    "import pandas as pd\n",
    "import numpy as np\n",
    "from PyPDF2 import PdfFileReader"
   ]
  },
  {
   "cell_type": "code",
   "execution_count": 21,
   "metadata": {},
   "outputs": [],
   "source": [
    "def extract_data(path, ano, mes, qty_mes):\n",
    "    with open(path, 'rb') as f:\n",
    "        pdf = PdfFileReader(f)\n",
    "        for num_page in range(pdf.getNumPages()):\n",
    "            page = pdf.getPage(num_page)\n",
    "            text = page.extractText()\n",
    "            list_text = text.split('\\n')\n",
    "\n",
    "            if num_page == 0:\n",
    "                list_text = list_text[6:]\n",
    "\n",
    "            for i in range(0, len(list_text) - 3, 3):\n",
    "                product = list_text[i]\n",
    "                PU = list_text[i+1]\n",
    "                qty = list_text[i+2]\n",
    "                \n",
    "                if product[:3] == 'ER$':\n",
    "                    print('CAGADA SENDO PROCESSADA')\n",
    "                    original = product+PU+qty\n",
    "                    product = 'E'\n",
    "                    PU = 23.\n",
    "                    list_text.insert(0,0) # desloca todos os itens uma vez pra frente\n",
    "                    \n",
    "                # tratamento chato pra transformar de string para float\n",
    "                try:\n",
    "                    PU = (float(PU.replace('R$', '').split(' ')[1].replace(',','.'))) # para ser valor total (PU * qty) usar o index -1\n",
    "                except AttributeError:\n",
    "                    PU = 23.\n",
    "\n",
    "                try:\n",
    "                    qty = (float(qty.replace(',','.')))\n",
    "                except:\n",
    "                    print(original)\n",
    "                    print(ano, mes, num_page)\n",
    "                    qty = float(input('Qty: '))\n",
    "                \n",
    "                PU_product[product] = PU\n",
    "                qty_mes = qty_mes.append(pd.DataFrame([[product, qty]], columns = ['Produto', f'{ano}_{mes}']))\n",
    "                \n",
    "    return qty_mes"
   ]
  },
  {
   "cell_type": "code",
   "execution_count": 23,
   "metadata": {},
   "outputs": [
    {
     "name": "stdout",
     "output_type": "stream",
     "text": [
      "CAGADA SENDO PROCESSADA\n",
      "ER$ 23,00R$ 23,001,001/2 PORÇÃO SUSHI\n",
      "2019 4 3\n"
     ]
    },
    {
     "name": "stdin",
     "output_type": "stream",
     "text": [
      "Qty:  1.\n"
     ]
    },
    {
     "name": "stdout",
     "output_type": "stream",
     "text": [
      "CAGADA SENDO PROCESSADA\n",
      "ER$ 23,00R$ 69,003,00GUNK CREAM CHEESE UN\n",
      "2019 6 2\n"
     ]
    },
    {
     "name": "stdin",
     "output_type": "stream",
     "text": [
      "Qty:  3.\n"
     ]
    },
    {
     "name": "stdout",
     "output_type": "stream",
     "text": [
      "CAGADA SENDO PROCESSADA\n",
      "ER$ 23,00R$ 23,001,00FILADELFIA URAMAKI\n",
      "2019 7 3\n"
     ]
    },
    {
     "name": "stdin",
     "output_type": "stream",
     "text": [
      "Qty:  1.\n"
     ]
    },
    {
     "name": "stdout",
     "output_type": "stream",
     "text": [
      "CAGADA SENDO PROCESSADA\n",
      "ER$ 23,00R$ 23,001,00CROQUETE SALMAO\n",
      "2019 8 2\n"
     ]
    },
    {
     "name": "stdin",
     "output_type": "stream",
     "text": [
      "Qty:  1.\n"
     ]
    },
    {
     "name": "stdout",
     "output_type": "stream",
     "text": [
      "CAGADA SENDO PROCESSADA\n",
      "ER$ 23,00R$ 69,003,00EBI FURAI URAMAKI\n",
      "2019 9 2\n"
     ]
    },
    {
     "name": "stdin",
     "output_type": "stream",
     "text": [
      "Qty:  3.\n"
     ]
    },
    {
     "name": "stdout",
     "output_type": "stream",
     "text": [
      "CAGADA SENDO PROCESSADA\n",
      "ER$ 23,00R$ 46,002,00GUNKAN CREAM MARAC PC\n",
      "2019 10 2\n"
     ]
    },
    {
     "name": "stdin",
     "output_type": "stream",
     "text": [
      "Qty:  2.\n"
     ]
    },
    {
     "name": "stdout",
     "output_type": "stream",
     "text": [
      "CAGADA SENDO PROCESSADA\n",
      "ER$ 23,00R$ 69,003,00GUNKAN CREAM MARAC PC\n",
      "2019 11 2\n"
     ]
    },
    {
     "name": "stdin",
     "output_type": "stream",
     "text": [
      "Qty:  3.\n"
     ]
    }
   ],
   "source": [
    "qty_mes = pd.DataFrame(columns = ['Produto'])\n",
    "PU_product = {}\n",
    "\n",
    "for ano in [2018,2019,2020]:\n",
    "    for mes in np.arange(1,13):\n",
    "        path = f'./dados/relatorio_produtos/produtos_{ano}_{mes}.pdf'\n",
    "        try:\n",
    "            qty_mes = (extract_data(path, ano, mes, qty_mes))\n",
    "            qty_mes = qty_mes.groupby('Produto').sum().reset_index()\n",
    "        except FileNotFoundError as e:\n",
    "            pass"
   ]
  },
  {
   "cell_type": "code",
   "execution_count": 35,
   "metadata": {},
   "outputs": [
    {
     "data": {
      "text/html": [
       "<div>\n",
       "<style scoped>\n",
       "    .dataframe tbody tr th:only-of-type {\n",
       "        vertical-align: middle;\n",
       "    }\n",
       "\n",
       "    .dataframe tbody tr th {\n",
       "        vertical-align: top;\n",
       "    }\n",
       "\n",
       "    .dataframe thead th {\n",
       "        text-align: right;\n",
       "    }\n",
       "</style>\n",
       "<table border=\"1\" class=\"dataframe\">\n",
       "  <thead>\n",
       "    <tr style=\"text-align: right;\">\n",
       "      <th></th>\n",
       "      <th>2018_11</th>\n",
       "      <th>2018_12</th>\n",
       "      <th>2019_1</th>\n",
       "      <th>2019_2</th>\n",
       "      <th>2019_3</th>\n",
       "      <th>2019_4</th>\n",
       "      <th>2019_5</th>\n",
       "      <th>2019_6</th>\n",
       "      <th>2019_7</th>\n",
       "      <th>2019_8</th>\n",
       "      <th>2019_9</th>\n",
       "      <th>2019_10</th>\n",
       "      <th>2019_11</th>\n",
       "      <th>2019_12</th>\n",
       "      <th>2020_1</th>\n",
       "      <th>2020_2</th>\n",
       "      <th>2020_3</th>\n",
       "    </tr>\n",
       "    <tr>\n",
       "      <th>Produto</th>\n",
       "      <th></th>\n",
       "      <th></th>\n",
       "      <th></th>\n",
       "      <th></th>\n",
       "      <th></th>\n",
       "      <th></th>\n",
       "      <th></th>\n",
       "      <th></th>\n",
       "      <th></th>\n",
       "      <th></th>\n",
       "      <th></th>\n",
       "      <th></th>\n",
       "      <th></th>\n",
       "      <th></th>\n",
       "      <th></th>\n",
       "      <th></th>\n",
       "      <th></th>\n",
       "    </tr>\n",
       "  </thead>\n",
       "  <tbody>\n",
       "    <tr>\n",
       "      <th>SAKÊ SOFT GARRAFA</th>\n",
       "      <td>0.0</td>\n",
       "      <td>0.0</td>\n",
       "      <td>0.0</td>\n",
       "      <td>1.0</td>\n",
       "      <td>0.0</td>\n",
       "      <td>0.0</td>\n",
       "      <td>0.0</td>\n",
       "      <td>1.0</td>\n",
       "      <td>0.0</td>\n",
       "      <td>1.0</td>\n",
       "      <td>2.0</td>\n",
       "      <td>6.0</td>\n",
       "      <td>0.0</td>\n",
       "      <td>6.0</td>\n",
       "      <td>3.0</td>\n",
       "      <td>2.0</td>\n",
       "      <td>3.0</td>\n",
       "    </tr>\n",
       "    <tr>\n",
       "      <th>1/2 PORÇÃO SUSHI</th>\n",
       "      <td>0.0</td>\n",
       "      <td>3.0</td>\n",
       "      <td>4.0</td>\n",
       "      <td>0.0</td>\n",
       "      <td>4.0</td>\n",
       "      <td>1.0</td>\n",
       "      <td>0.0</td>\n",
       "      <td>1.0</td>\n",
       "      <td>1.0</td>\n",
       "      <td>0.0</td>\n",
       "      <td>0.0</td>\n",
       "      <td>1.0</td>\n",
       "      <td>0.0</td>\n",
       "      <td>3.0</td>\n",
       "      <td>6.0</td>\n",
       "      <td>2.0</td>\n",
       "      <td>0.0</td>\n",
       "    </tr>\n",
       "    <tr>\n",
       "      <th>1865</th>\n",
       "      <td>0.0</td>\n",
       "      <td>0.0</td>\n",
       "      <td>0.0</td>\n",
       "      <td>0.0</td>\n",
       "      <td>0.0</td>\n",
       "      <td>0.0</td>\n",
       "      <td>0.0</td>\n",
       "      <td>0.0</td>\n",
       "      <td>0.0</td>\n",
       "      <td>0.0</td>\n",
       "      <td>1.0</td>\n",
       "      <td>0.0</td>\n",
       "      <td>0.0</td>\n",
       "      <td>0.0</td>\n",
       "      <td>0.0</td>\n",
       "      <td>0.0</td>\n",
       "      <td>0.0</td>\n",
       "    </tr>\n",
       "    <tr>\n",
       "      <th>ABA/HORT.MOR.KIWI</th>\n",
       "      <td>15.0</td>\n",
       "      <td>46.0</td>\n",
       "      <td>31.0</td>\n",
       "      <td>27.0</td>\n",
       "      <td>10.0</td>\n",
       "      <td>5.0</td>\n",
       "      <td>2.0</td>\n",
       "      <td>6.0</td>\n",
       "      <td>9.0</td>\n",
       "      <td>9.0</td>\n",
       "      <td>2.0</td>\n",
       "      <td>11.0</td>\n",
       "      <td>3.0</td>\n",
       "      <td>2.0</td>\n",
       "      <td>5.0</td>\n",
       "      <td>2.0</td>\n",
       "      <td>1.0</td>\n",
       "    </tr>\n",
       "    <tr>\n",
       "      <th>ABACAXI COM HORTELA</th>\n",
       "      <td>3.0</td>\n",
       "      <td>24.0</td>\n",
       "      <td>9.0</td>\n",
       "      <td>7.0</td>\n",
       "      <td>3.0</td>\n",
       "      <td>2.0</td>\n",
       "      <td>1.0</td>\n",
       "      <td>5.0</td>\n",
       "      <td>9.0</td>\n",
       "      <td>7.0</td>\n",
       "      <td>2.0</td>\n",
       "      <td>7.0</td>\n",
       "      <td>1.0</td>\n",
       "      <td>6.0</td>\n",
       "      <td>6.0</td>\n",
       "      <td>1.0</td>\n",
       "      <td>1.0</td>\n",
       "    </tr>\n",
       "    <tr>\n",
       "      <th>...</th>\n",
       "      <td>...</td>\n",
       "      <td>...</td>\n",
       "      <td>...</td>\n",
       "      <td>...</td>\n",
       "      <td>...</td>\n",
       "      <td>...</td>\n",
       "      <td>...</td>\n",
       "      <td>...</td>\n",
       "      <td>...</td>\n",
       "      <td>...</td>\n",
       "      <td>...</td>\n",
       "      <td>...</td>\n",
       "      <td>...</td>\n",
       "      <td>...</td>\n",
       "      <td>...</td>\n",
       "      <td>...</td>\n",
       "      <td>...</td>\n",
       "    </tr>\n",
       "    <tr>\n",
       "      <th>YAKISSOBA FRANGO</th>\n",
       "      <td>0.0</td>\n",
       "      <td>5.0</td>\n",
       "      <td>3.0</td>\n",
       "      <td>2.0</td>\n",
       "      <td>1.0</td>\n",
       "      <td>5.0</td>\n",
       "      <td>3.0</td>\n",
       "      <td>2.0</td>\n",
       "      <td>1.0</td>\n",
       "      <td>1.0</td>\n",
       "      <td>3.0</td>\n",
       "      <td>2.0</td>\n",
       "      <td>1.0</td>\n",
       "      <td>4.0</td>\n",
       "      <td>1.0</td>\n",
       "      <td>0.0</td>\n",
       "      <td>1.0</td>\n",
       "    </tr>\n",
       "    <tr>\n",
       "      <th>YAKISSOBA LEGUMES</th>\n",
       "      <td>0.0</td>\n",
       "      <td>1.0</td>\n",
       "      <td>2.0</td>\n",
       "      <td>0.0</td>\n",
       "      <td>0.0</td>\n",
       "      <td>0.0</td>\n",
       "      <td>0.0</td>\n",
       "      <td>0.0</td>\n",
       "      <td>1.0</td>\n",
       "      <td>0.0</td>\n",
       "      <td>1.0</td>\n",
       "      <td>0.0</td>\n",
       "      <td>0.0</td>\n",
       "      <td>3.0</td>\n",
       "      <td>0.0</td>\n",
       "      <td>0.0</td>\n",
       "      <td>0.0</td>\n",
       "    </tr>\n",
       "    <tr>\n",
       "      <th>YAKISSOBA MISTO</th>\n",
       "      <td>0.0</td>\n",
       "      <td>6.0</td>\n",
       "      <td>4.0</td>\n",
       "      <td>1.0</td>\n",
       "      <td>4.0</td>\n",
       "      <td>3.0</td>\n",
       "      <td>4.0</td>\n",
       "      <td>3.0</td>\n",
       "      <td>1.0</td>\n",
       "      <td>1.0</td>\n",
       "      <td>4.0</td>\n",
       "      <td>4.0</td>\n",
       "      <td>2.0</td>\n",
       "      <td>0.0</td>\n",
       "      <td>2.0</td>\n",
       "      <td>2.0</td>\n",
       "      <td>1.0</td>\n",
       "    </tr>\n",
       "    <tr>\n",
       "      <th>YAKISSOBA SALMAO</th>\n",
       "      <td>0.0</td>\n",
       "      <td>1.0</td>\n",
       "      <td>0.0</td>\n",
       "      <td>0.0</td>\n",
       "      <td>0.0</td>\n",
       "      <td>0.0</td>\n",
       "      <td>0.0</td>\n",
       "      <td>0.0</td>\n",
       "      <td>0.0</td>\n",
       "      <td>0.0</td>\n",
       "      <td>0.0</td>\n",
       "      <td>0.0</td>\n",
       "      <td>0.0</td>\n",
       "      <td>0.0</td>\n",
       "      <td>1.0</td>\n",
       "      <td>1.0</td>\n",
       "      <td>0.0</td>\n",
       "    </tr>\n",
       "    <tr>\n",
       "      <th>¹/² SUSHI A ESCOLHA EXECUTIVO</th>\n",
       "      <td>0.0</td>\n",
       "      <td>0.0</td>\n",
       "      <td>0.0</td>\n",
       "      <td>0.0</td>\n",
       "      <td>2.0</td>\n",
       "      <td>0.0</td>\n",
       "      <td>0.0</td>\n",
       "      <td>0.0</td>\n",
       "      <td>0.0</td>\n",
       "      <td>0.0</td>\n",
       "      <td>0.0</td>\n",
       "      <td>0.0</td>\n",
       "      <td>0.0</td>\n",
       "      <td>0.0</td>\n",
       "      <td>0.0</td>\n",
       "      <td>0.0</td>\n",
       "      <td>0.0</td>\n",
       "    </tr>\n",
       "  </tbody>\n",
       "</table>\n",
       "<p>290 rows × 17 columns</p>\n",
       "</div>"
      ],
      "text/plain": [
       "                               2018_11  2018_12  2019_1  2019_2  2019_3  \\\n",
       "Produto                                                                   \n",
       " SAKÊ SOFT GARRAFA                 0.0      0.0     0.0     1.0     0.0   \n",
       "1/2 PORÇÃO SUSHI                   0.0      3.0     4.0     0.0     4.0   \n",
       "1865                               0.0      0.0     0.0     0.0     0.0   \n",
       "ABA/HORT.MOR.KIWI                 15.0     46.0    31.0    27.0    10.0   \n",
       "ABACAXI COM HORTELA                3.0     24.0     9.0     7.0     3.0   \n",
       "...                                ...      ...     ...     ...     ...   \n",
       "YAKISSOBA FRANGO                   0.0      5.0     3.0     2.0     1.0   \n",
       "YAKISSOBA LEGUMES                  0.0      1.0     2.0     0.0     0.0   \n",
       "YAKISSOBA MISTO                    0.0      6.0     4.0     1.0     4.0   \n",
       "YAKISSOBA SALMAO                   0.0      1.0     0.0     0.0     0.0   \n",
       "¹/² SUSHI A ESCOLHA EXECUTIVO      0.0      0.0     0.0     0.0     2.0   \n",
       "\n",
       "                               2019_4  2019_5  2019_6  2019_7  2019_8  2019_9  \\\n",
       "Produto                                                                         \n",
       " SAKÊ SOFT GARRAFA                0.0     0.0     1.0     0.0     1.0     2.0   \n",
       "1/2 PORÇÃO SUSHI                  1.0     0.0     1.0     1.0     0.0     0.0   \n",
       "1865                              0.0     0.0     0.0     0.0     0.0     1.0   \n",
       "ABA/HORT.MOR.KIWI                 5.0     2.0     6.0     9.0     9.0     2.0   \n",
       "ABACAXI COM HORTELA               2.0     1.0     5.0     9.0     7.0     2.0   \n",
       "...                               ...     ...     ...     ...     ...     ...   \n",
       "YAKISSOBA FRANGO                  5.0     3.0     2.0     1.0     1.0     3.0   \n",
       "YAKISSOBA LEGUMES                 0.0     0.0     0.0     1.0     0.0     1.0   \n",
       "YAKISSOBA MISTO                   3.0     4.0     3.0     1.0     1.0     4.0   \n",
       "YAKISSOBA SALMAO                  0.0     0.0     0.0     0.0     0.0     0.0   \n",
       "¹/² SUSHI A ESCOLHA EXECUTIVO     0.0     0.0     0.0     0.0     0.0     0.0   \n",
       "\n",
       "                               2019_10  2019_11  2019_12  2020_1  2020_2  \\\n",
       "Produto                                                                    \n",
       " SAKÊ SOFT GARRAFA                 6.0      0.0      6.0     3.0     2.0   \n",
       "1/2 PORÇÃO SUSHI                   1.0      0.0      3.0     6.0     2.0   \n",
       "1865                               0.0      0.0      0.0     0.0     0.0   \n",
       "ABA/HORT.MOR.KIWI                 11.0      3.0      2.0     5.0     2.0   \n",
       "ABACAXI COM HORTELA                7.0      1.0      6.0     6.0     1.0   \n",
       "...                                ...      ...      ...     ...     ...   \n",
       "YAKISSOBA FRANGO                   2.0      1.0      4.0     1.0     0.0   \n",
       "YAKISSOBA LEGUMES                  0.0      0.0      3.0     0.0     0.0   \n",
       "YAKISSOBA MISTO                    4.0      2.0      0.0     2.0     2.0   \n",
       "YAKISSOBA SALMAO                   0.0      0.0      0.0     1.0     1.0   \n",
       "¹/² SUSHI A ESCOLHA EXECUTIVO      0.0      0.0      0.0     0.0     0.0   \n",
       "\n",
       "                               2020_3  \n",
       "Produto                                \n",
       " SAKÊ SOFT GARRAFA                3.0  \n",
       "1/2 PORÇÃO SUSHI                  0.0  \n",
       "1865                              0.0  \n",
       "ABA/HORT.MOR.KIWI                 1.0  \n",
       "ABACAXI COM HORTELA               1.0  \n",
       "...                               ...  \n",
       "YAKISSOBA FRANGO                  1.0  \n",
       "YAKISSOBA LEGUMES                 0.0  \n",
       "YAKISSOBA MISTO                   1.0  \n",
       "YAKISSOBA SALMAO                  0.0  \n",
       "¹/² SUSHI A ESCOLHA EXECUTIVO     0.0  \n",
       "\n",
       "[290 rows x 17 columns]"
      ]
     },
     "execution_count": 35,
     "metadata": {},
     "output_type": "execute_result"
    }
   ],
   "source": [
    "qty_mes = qty_mes.set_index('Produto')\n",
    "qty_mes"
   ]
  },
  {
   "cell_type": "code",
   "execution_count": 39,
   "metadata": {},
   "outputs": [],
   "source": [
    "qty_mes['Total'] = qty_mes.T.sum()"
   ]
  },
  {
   "cell_type": "code",
   "execution_count": 41,
   "metadata": {},
   "outputs": [],
   "source": [
    "qty_mes.to_csv('./resultados/quantidade_mes.csv')"
   ]
  },
  {
   "cell_type": "markdown",
   "metadata": {},
   "source": [
    "## Mov_financeiro"
   ]
  },
  {
   "cell_type": "code",
   "execution_count": 44,
   "metadata": {},
   "outputs": [],
   "source": [
    "path = './dados/mov_financeiro/1 rel mov finan nov 2018.pdf'"
   ]
  },
  {
   "cell_type": "code",
   "execution_count": 70,
   "metadata": {},
   "outputs": [],
   "source": [
    "def extract_mov(path, ano, mes):\n",
    "    with open(path, 'rb') as f:\n",
    "        pdf = PdfFileReader(f)\n",
    "\n",
    "        text = pdf.getPage(0).extractText()\n",
    "\n",
    "        list_ex = text.split('\\n')\n",
    "\n",
    "        dinheiro, visa, visa_electron, conta, desconto, mastercard = 0,0,0,0,0,0\n",
    "\n",
    "        for index, element in enumerate(list_ex):\n",
    "            if element == '0001             DINHEIRO                       R$ ':\n",
    "                dinheiro = float(list_ex[index+1].replace(',','.'))\n",
    "            elif element == '0003             VISA                           R$ ':\n",
    "                visa = float(list_ex[index+1].replace(',','.'))\n",
    "            elif element == '0004             VISA ELECTRON                  R$ ':\n",
    "                visa_electron = float(list_ex[index+1].replace(',','.'))\n",
    "            elif element == '0010             CONTA ASSINADA                 R$ ':\n",
    "                conta = float(list_ex[index+1].replace(',','.'))\n",
    "            elif element == '0012             DESCONTO                       R$ ':\n",
    "                desconto = float(list_ex[index+1].replace(',','.'))\n",
    "            elif element == '0005             MASTERCARD                     R$ ':\n",
    "                mastercard = float(list_ex[index+1].replace(',','.'))\n",
    "\n",
    "        return [ano, mes, dinheiro, visa, visa_electron, conta, desconto, mastercard]"
   ]
  },
  {
   "cell_type": "code",
   "execution_count": 71,
   "metadata": {},
   "outputs": [
    {
     "name": "stdout",
     "output_type": "stream",
     "text": [
      "ai\n",
      "ai\n",
      "ai\n",
      "ai\n",
      "ai\n",
      "ai\n",
      "ai\n",
      "ai\n",
      "ai\n",
      "ai\n",
      "ai\n",
      "ai\n",
      "ai\n",
      "ai\n",
      "ai\n",
      "ai\n",
      "ai\n",
      "ai\n"
     ]
    }
   ],
   "source": [
    "mov_columns = ['Ano', 'Mes', 'Dinheiro', 'Visa', 'Visa Electron', 'Conta assinada', 'Desconto', 'Mastercard']\n",
    "mov = pd.DataFrame(columns = mov_columns)\n",
    "\n",
    "for ano in [2018,2019,2020]:\n",
    "    for mes in np.arange(1,13):\n",
    "        path = f'./dados/mov_financeiro/extrato_{ano}_{mes}.pdf'\n",
    "        try:\n",
    "            mov = mov.append(pd.DataFrame([extract_mov(path, ano, mes)], columns = mov_columns))\n",
    "        except FileNotFoundError:\n",
    "            print('ai')"
   ]
  },
  {
   "cell_type": "code",
   "execution_count": 74,
   "metadata": {},
   "outputs": [],
   "source": [
    "mov.to_csv('./resultados/mov_financeiro.csv', index = False)"
   ]
  },
  {
   "cell_type": "code",
   "execution_count": 51,
   "metadata": {},
   "outputs": [
    {
     "data": {
      "text/plain": [
       "['---------------------------------------------------',\n",
       " '--------------------------',\n",
       " '                    Relatório Vendas Por Forma de P',\n",
       " 'agamento                  ',\n",
       " '---------------------------------------------------',\n",
       " '--------------------------',\n",
       " 'Impresso em: 05/12/2020 21:49:29',\n",
       " 'Período: 11/11/2018 - 30/11/2018',\n",
       " '---------------------------------------------------',\n",
       " '--------------------------',\n",
       " 'CÓDIGO           DESCRIÇÃO                      VAL',\n",
       " 'OR            ',\n",
       " '---------------------------------------------------',\n",
       " '--------------------------',\n",
       " '0001             DINHEIRO                       R$ ',\n",
       " '1356,31       ',\n",
       " '0003             VISA                           R$ ',\n",
       " '9260,40       ',\n",
       " '0004             VISA ELECTRON                  R$ ',\n",
       " '27,65         ',\n",
       " '0010             CONTA ASSINADA                 R$ ',\n",
       " '636,88        ',\n",
       " '0012             DESCONTO                       R$ ',\n",
       " '204,80        ',\n",
       " '===================================================',\n",
       " '==========================',\n",
       " 'TOTAL: R$ 11486,04',\n",
       " '===================================================',\n",
       " '==========================',\n",
       " '']"
      ]
     },
     "execution_count": 51,
     "metadata": {},
     "output_type": "execute_result"
    }
   ],
   "source": [
    "\n",
    "list_ex"
   ]
  },
  {
   "cell_type": "code",
   "execution_count": null,
   "metadata": {},
   "outputs": [],
   "source": []
  },
  {
   "cell_type": "code",
   "execution_count": 54,
   "metadata": {},
   "outputs": [
    {
     "data": {
      "text/plain": [
       "['0001             DINHEIRO                       R$ ']"
      ]
     },
     "execution_count": 54,
     "metadata": {},
     "output_type": "execute_result"
    }
   ],
   "source": [
    "newlist = list(filter(dinheiro.match, list_ex))\n",
    "newlist"
   ]
  }
 ],
 "metadata": {
  "kernelspec": {
   "display_name": "Python 3",
   "language": "python",
   "name": "python3"
  },
  "language_info": {
   "codemirror_mode": {
    "name": "ipython",
    "version": 3
   },
   "file_extension": ".py",
   "mimetype": "text/x-python",
   "name": "python",
   "nbconvert_exporter": "python",
   "pygments_lexer": "ipython3",
   "version": "3.7.7"
  }
 },
 "nbformat": 4,
 "nbformat_minor": 4
}
